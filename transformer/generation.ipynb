{
 "cells": [
  {
   "cell_type": "code",
   "execution_count": 2,
   "metadata": {},
   "outputs": [
    {
     "name": "stderr",
     "output_type": "stream",
     "text": [
      "/usr/local/lib/python3.8/dist-packages/tqdm/auto.py:21: TqdmWarning: IProgress not found. Please update jupyter and ipywidgets. See https://ipywidgets.readthedocs.io/en/stable/user_install.html\n",
      "  from .autonotebook import tqdm as notebook_tqdm\n"
     ]
    }
   ],
   "source": [
    "\n",
    "import torch\n",
    "from torch import nn\n",
    "from torch.autograd import Variable\n",
    "import torch.nn.functional as F\n",
    "\n",
    "from torchtext import datasets, vocab\n",
    "from transformers import AutoTokenizer\n",
    "from datasets import load_dataset\n",
    "from torch.utils.data import Dataset, DataLoader\n",
    "\n",
    "import numpy as np\n",
    "\n",
    "from torch.utils.tensorboard import SummaryWriter\n",
    "\n",
    "import random, tqdm, sys, math, gzip\n",
    "\n",
    "device = torch.device(\"cuda\" if torch.cuda.is_available() else \"cpu\")"
   ]
  },
  {
   "cell_type": "code",
   "execution_count": 3,
   "metadata": {},
   "outputs": [
    {
     "name": "stderr",
     "output_type": "stream",
     "text": [
      "Downloading builder script: 100%|█████████| 3.25k/3.25k [00:00<00:00, 2.09MB/s]\n",
      "Downloading metadata: 100%|████████████████| 1.67k/1.67k [00:00<00:00, 913kB/s]\n",
      "Downloading readme: 100%|█████████████████| 6.48k/6.48k [00:00<00:00, 2.96MB/s]\n"
     ]
    },
    {
     "name": "stdout",
     "output_type": "stream",
     "text": [
      "Downloading and preparing dataset bookcorpus/plain_text to /root/.cache/huggingface/datasets/bookcorpus/plain_text/1.0.0/eddee3cae1cc263a431aa98207d4d27fd8a73b0a9742f692af0e6c65afa4d75f...\n"
     ]
    },
    {
     "name": "stderr",
     "output_type": "stream",
     "text": [
      "Downloading data: 100%|███████████████████| 1.18G/1.18G [00:54<00:00, 21.5MB/s]\n",
      "                                                                               \r"
     ]
    },
    {
     "name": "stdout",
     "output_type": "stream",
     "text": [
      "Dataset bookcorpus downloaded and prepared to /root/.cache/huggingface/datasets/bookcorpus/plain_text/1.0.0/eddee3cae1cc263a431aa98207d4d27fd8a73b0a9742f692af0e6c65afa4d75f. Subsequent calls will reuse this data.\n"
     ]
    },
    {
     "name": "stderr",
     "output_type": "stream",
     "text": [
      "100%|████████████████████████████████████████████| 1/1 [00:02<00:00,  2.12s/it]\n"
     ]
    }
   ],
   "source": [
    "dataset = load_dataset(\"bookcorpus\")"
   ]
  },
  {
   "cell_type": "code",
   "execution_count": 37,
   "metadata": {},
   "outputs": [],
   "source": [
    "small_dataset = dataset['train'].select(range(1000000))"
   ]
  },
  {
   "cell_type": "code",
   "execution_count": 38,
   "metadata": {},
   "outputs": [
    {
     "name": "stdout",
     "output_type": "stream",
     "text": [
      "Dataset({\n",
      "    features: ['text'],\n",
      "    num_rows: 1000000\n",
      "})\n"
     ]
    }
   ],
   "source": [
    "print(small_dataset)\n",
    "small_dataset = small_dataset.train_test_split(test_size=0.1)"
   ]
  },
  {
   "cell_type": "code",
   "execution_count": 39,
   "metadata": {},
   "outputs": [
    {
     "name": "stderr",
     "output_type": "stream",
     "text": [
      "                                                                               \r"
     ]
    }
   ],
   "source": [
    "tokenizer = AutoTokenizer.from_pretrained('bert-base-uncased')\n",
    "\n",
    "small_dataset = small_dataset.map(lambda x: tokenizer(x['text'], padding='max_length', truncation=True, max_length=50, return_tensors='pt'), batched=True)"
   ]
  },
  {
   "cell_type": "code",
   "execution_count": 62,
   "metadata": {},
   "outputs": [],
   "source": [
    "class TextDataset(Dataset):\n",
    "    def __init__(self, dataset, seq_length):\n",
    "        self.dataset = dataset\n",
    "        self.seq_length = seq_length\n",
    "\n",
    "    def __len__(self):\n",
    "        return len(self.dataset)\n",
    "\n",
    "    def __getitem__(self, index):\n",
    "        input_ids = self.dataset[index]['input_ids']\n",
    "        input_sequence = input_ids[:self.seq_length]\n",
    "        target_sequence = input_ids[1:self.seq_length+1]\n",
    "\n",
    "        input_sequence = torch.tensor(input_sequence, dtype=torch.long)\n",
    "        target_sequence = torch.tensor(target_sequence, dtype=torch.long)\n",
    "\n",
    "        return input_sequence, target_sequence\n",
    "\n",
    "batch_size = 32\n",
    "seq_length = 8\n",
    "lr = 1e-4\n",
    "\n",
    "train_dataset = TextDataset(small_dataset['train'], seq_length)\n",
    "test_dataset = TextDataset(small_dataset['test'], seq_length)\n",
    "\n",
    "train_loader = DataLoader(train_dataset, batch_size=batch_size, shuffle=True)\n",
    "test_loader = DataLoader(test_dataset, batch_size=batch_size, shuffle=False)\n",
    "\n"
   ]
  },
  {
   "cell_type": "code",
   "execution_count": 64,
   "metadata": {},
   "outputs": [
    {
     "name": "stdout",
     "output_type": "stream",
     "text": [
      "[CLS] i look up at the large tv\n",
      "i look up at the large tv screen\n"
     ]
    }
   ],
   "source": [
    "\n",
    "# batch_size = 32\n",
    "\n",
    "# small_dataset.set_format(type=\"torch\", columns=[\"input_ids\"])\n",
    "# train_loader = DataLoader(small_dataset['train'], batch_size=batch_size, shuffle=True)\n",
    "# train_loader = DataLoader(small_dataset['test'], batch_size=batch_size, shuffle=True)\n",
    "\n",
    "input_seq, target_seq  = next(iter(train_loader))\n",
    "# print(input_seq)\n",
    "which  = 4\n",
    "print(tokenizer.decode(input_seq[which]))\n",
    "print(tokenizer.decode(target_seq[which]))\n",
    "# model\n",
    "# print(tokenizer.decode(next(iter(train_loader))['input_ids'][0]))\n",
    "# print(tokenizer.decode(next(iter(train_loader))['input_ids'][1]))"
   ]
  },
  {
   "cell_type": "code",
   "execution_count": 66,
   "metadata": {},
   "outputs": [
    {
     "name": "stderr",
     "output_type": "stream",
     "text": [
      "100%|████████████████████████████████████| 28125/28125 [11:51<00:00, 39.50it/s]\n"
     ]
    }
   ],
   "source": [
    "\n",
    "device = torch.device(\"cuda\" if torch.cuda.is_available() else \"cpu\")\n",
    "\n",
    "import importlib\n",
    "import my_transformers\n",
    "importlib.reload(my_transformers)\n",
    "\n",
    "model = my_transformers.GenerationTransformer(k=4, heads=4, depth=2, seq_length=32, num_tokens=tokenizer.vocab_size).to(device)\n",
    "\n",
    "num_epochs = 1\n",
    "loss_fn = nn.CrossEntropyLoss()\n",
    "optimizer = torch.optim.Adam(model.parameters(), lr=lr)\n",
    "\n",
    "for epoch in range(num_epochs):\n",
    "    model.train()\n",
    "\n",
    "    for input_sequence, target_sequence in tqdm.tqdm(train_loader):\n",
    "        input_sequence = input_sequence.to(device)\n",
    "        target_sequence = target_sequence.to(device)\n",
    "\n",
    "        output = model(input_sequence)\n",
    "\n",
    "        loss = loss_fn(\n",
    "            output.view(-1, output.shape[-1]),\n",
    "            target_sequence.view(-1)\n",
    "        )\n",
    "\n",
    "        optimizer.zero_grad()\n",
    "        loss.backward()\n",
    "        optimizer.step()\n",
    "\n"
   ]
  },
  {
   "cell_type": "code",
   "execution_count": 106,
   "metadata": {},
   "outputs": [
    {
     "name": "stderr",
     "output_type": "stream",
     "text": [
      "  0%|                                                 | 0/3125 [00:00<?, ?it/s]"
     ]
    },
    {
     "name": "stdout",
     "output_type": "stream",
     "text": [
      "torch.Size([32, 8, 30522])\n",
      "torch.Size([32, 8])\n",
      "[CLS] the sound of his cell phone filled\n",
      "the sound of his cell phone filled the\n",
      "torch.Size([32, 8])\n",
      "` `'` ` t,,\n"
     ]
    },
    {
     "name": "stderr",
     "output_type": "stream",
     "text": [
      "\n"
     ]
    }
   ],
   "source": [
    "\n",
    "for input_sequence, target_sequence in tqdm.tqdm(test_loader):\n",
    "    input_sequence = input_sequence.to(device)\n",
    "    # target_sequence = target_sequence.to(device)\n",
    "    which = 24\n",
    "\n",
    "    output = model(input_sequence)\n",
    "    print(output.shape)\n",
    "    next_token  = torch.argmax(output, dim=2)\n",
    "\n",
    "    print(next_token.shape)\n",
    "\n",
    "    print(tokenizer.decode(input_seq[which]))\n",
    "    print(tokenizer.decode(target_seq[which]))\n",
    "    print(next_token.shape)\n",
    "    print(tokenizer.decode(next_token[which]))\n",
    "\n",
    "    break\n",
    "# input_seq, target_seq  = next(iter(train_loader))\n",
    "\n",
    "# print(model(input_seq))\n",
    "# # print(input_seq)\n",
    "# which  = 4\n",
    "# print(tokenizer.decode(input_seq[which]))\n",
    "# print(tokenizer.decode(target_seq[which]))"
   ]
  }
 ],
 "metadata": {
  "kernelspec": {
   "display_name": "Python 3",
   "language": "python",
   "name": "python3"
  },
  "language_info": {
   "codemirror_mode": {
    "name": "ipython",
    "version": 3
   },
   "file_extension": ".py",
   "mimetype": "text/x-python",
   "name": "python",
   "nbconvert_exporter": "python",
   "pygments_lexer": "ipython3",
   "version": "3.8.10"
  },
  "orig_nbformat": 4
 },
 "nbformat": 4,
 "nbformat_minor": 2
}
